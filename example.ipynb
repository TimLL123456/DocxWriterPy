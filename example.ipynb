{
 "cells": [
  {
   "cell_type": "code",
   "execution_count": 1,
   "metadata": {},
   "outputs": [],
   "source": [
    "from docx_writer import DocxWriter\n",
    "import pandas as pd\n",
    "from PIL import Image\n",
    "import os"
   ]
  },
  {
   "cell_type": "markdown",
   "metadata": {},
   "source": [
    "# Import demo data"
   ]
  },
  {
   "cell_type": "code",
   "execution_count": 2,
   "metadata": {},
   "outputs": [
    {
     "data": {
      "text/html": [
       "<div>\n",
       "<style scoped>\n",
       "    .dataframe tbody tr th:only-of-type {\n",
       "        vertical-align: middle;\n",
       "    }\n",
       "\n",
       "    .dataframe tbody tr th {\n",
       "        vertical-align: top;\n",
       "    }\n",
       "\n",
       "    .dataframe thead th {\n",
       "        text-align: right;\n",
       "    }\n",
       "</style>\n",
       "<table border=\"1\" class=\"dataframe\">\n",
       "  <thead>\n",
       "    <tr style=\"text-align: right;\">\n",
       "      <th></th>\n",
       "      <th>Recipient Name</th>\n",
       "      <th>Address Line 1</th>\n",
       "      <th>City</th>\n",
       "      <th>Country</th>\n",
       "      <th>Company Name</th>\n",
       "      <th>City.1</th>\n",
       "      <th>Phone Number</th>\n",
       "      <th>Email</th>\n",
       "      <th>Date</th>\n",
       "    </tr>\n",
       "  </thead>\n",
       "  <tbody>\n",
       "    <tr>\n",
       "      <th>0</th>\n",
       "      <td>John Doe</td>\n",
       "      <td>123 Elm St</td>\n",
       "      <td>Springfield</td>\n",
       "      <td>USA</td>\n",
       "      <td>Acme Corporation</td>\n",
       "      <td>Springfield</td>\n",
       "      <td>(555) 123-4567</td>\n",
       "      <td>john.doe@example.com</td>\n",
       "      <td>2025-01-06</td>\n",
       "    </tr>\n",
       "    <tr>\n",
       "      <th>1</th>\n",
       "      <td>Jane Smith</td>\n",
       "      <td>789 Maple Ave</td>\n",
       "      <td>Metropolis</td>\n",
       "      <td>USA</td>\n",
       "      <td>Beta Industries</td>\n",
       "      <td>Metropolis</td>\n",
       "      <td>(555) 987-6543</td>\n",
       "      <td>jane.smith@example.com</td>\n",
       "      <td>2025-01-06</td>\n",
       "    </tr>\n",
       "    <tr>\n",
       "      <th>2</th>\n",
       "      <td>Michael Johnson</td>\n",
       "      <td>456 Birch Rd</td>\n",
       "      <td>Gotham</td>\n",
       "      <td>USA</td>\n",
       "      <td>Gamma Solutions</td>\n",
       "      <td>Gotham</td>\n",
       "      <td>(555) 234-5678</td>\n",
       "      <td>michael.j@example.com</td>\n",
       "      <td>2025-01-06</td>\n",
       "    </tr>\n",
       "    <tr>\n",
       "      <th>3</th>\n",
       "      <td>Emily Davis</td>\n",
       "      <td>321 Walnut St</td>\n",
       "      <td>Star City</td>\n",
       "      <td>USA</td>\n",
       "      <td>Delta Enterprises</td>\n",
       "      <td>Star City</td>\n",
       "      <td>(555) 876-5432</td>\n",
       "      <td>emily.davis@example.com</td>\n",
       "      <td>2025-01-06</td>\n",
       "    </tr>\n",
       "    <tr>\n",
       "      <th>4</th>\n",
       "      <td>Chris Lee</td>\n",
       "      <td>654 Chestnut St</td>\n",
       "      <td>Hill Valley</td>\n",
       "      <td>USA</td>\n",
       "      <td>Epsilon Tech</td>\n",
       "      <td>Hill Valley</td>\n",
       "      <td>(555) 345-6789</td>\n",
       "      <td>chris.lee@example.com</td>\n",
       "      <td>2025-01-06</td>\n",
       "    </tr>\n",
       "    <tr>\n",
       "      <th>5</th>\n",
       "      <td>Sarah Wilson</td>\n",
       "      <td>852 Poplar St</td>\n",
       "      <td>Smalltown</td>\n",
       "      <td>USA</td>\n",
       "      <td>Zeta Innovations</td>\n",
       "      <td>Smalltown</td>\n",
       "      <td>(555) 456-7890</td>\n",
       "      <td>sarah.wilson@example.com</td>\n",
       "      <td>2025-01-06</td>\n",
       "    </tr>\n",
       "    <tr>\n",
       "      <th>6</th>\n",
       "      <td>David Brown</td>\n",
       "      <td>963 Willow Way</td>\n",
       "      <td>Lakeview</td>\n",
       "      <td>USA</td>\n",
       "      <td>Eta Corporation</td>\n",
       "      <td>Lakeview</td>\n",
       "      <td>(555) 567-8901</td>\n",
       "      <td>david.brown@example.com</td>\n",
       "      <td>2025-01-06</td>\n",
       "    </tr>\n",
       "    <tr>\n",
       "      <th>7</th>\n",
       "      <td>Jessica White</td>\n",
       "      <td>147 Ash Dr</td>\n",
       "      <td>Rivertown</td>\n",
       "      <td>USA</td>\n",
       "      <td>Theta Dynamics</td>\n",
       "      <td>Rivertown</td>\n",
       "      <td>(555) 678-9012</td>\n",
       "      <td>jessica.white@example.com</td>\n",
       "      <td>2025-01-06</td>\n",
       "    </tr>\n",
       "    <tr>\n",
       "      <th>8</th>\n",
       "      <td>Daniel Martinez</td>\n",
       "      <td>258 Spruce Ct</td>\n",
       "      <td>Oceanview</td>\n",
       "      <td>USA</td>\n",
       "      <td>Iota Systems</td>\n",
       "      <td>Oceanview</td>\n",
       "      <td>(555) 789-0123</td>\n",
       "      <td>daniel.martinez@example.com</td>\n",
       "      <td>2025-01-06</td>\n",
       "    </tr>\n",
       "    <tr>\n",
       "      <th>9</th>\n",
       "      <td>Laura Garcia</td>\n",
       "      <td>369 Cedar St</td>\n",
       "      <td>Hillcrest</td>\n",
       "      <td>USA</td>\n",
       "      <td>Kappa Technologies</td>\n",
       "      <td>Hillcrest</td>\n",
       "      <td>(555) 890-1234</td>\n",
       "      <td>laura.garcia@example.com</td>\n",
       "      <td>2025-01-06</td>\n",
       "    </tr>\n",
       "  </tbody>\n",
       "</table>\n",
       "</div>"
      ],
      "text/plain": [
       "    Recipient Name   Address Line 1         City Country        Company Name  \\\n",
       "0         John Doe       123 Elm St  Springfield     USA    Acme Corporation   \n",
       "1       Jane Smith    789 Maple Ave   Metropolis     USA     Beta Industries   \n",
       "2  Michael Johnson     456 Birch Rd       Gotham     USA     Gamma Solutions   \n",
       "3      Emily Davis    321 Walnut St    Star City     USA   Delta Enterprises   \n",
       "4        Chris Lee  654 Chestnut St  Hill Valley     USA        Epsilon Tech   \n",
       "5     Sarah Wilson    852 Poplar St    Smalltown     USA    Zeta Innovations   \n",
       "6      David Brown   963 Willow Way     Lakeview     USA     Eta Corporation   \n",
       "7    Jessica White       147 Ash Dr    Rivertown     USA      Theta Dynamics   \n",
       "8  Daniel Martinez    258 Spruce Ct    Oceanview     USA        Iota Systems   \n",
       "9     Laura Garcia     369 Cedar St    Hillcrest     USA  Kappa Technologies   \n",
       "\n",
       "        City.1    Phone Number                        Email        Date  \n",
       "0  Springfield  (555) 123-4567         john.doe@example.com  2025-01-06  \n",
       "1   Metropolis  (555) 987-6543       jane.smith@example.com  2025-01-06  \n",
       "2       Gotham  (555) 234-5678        michael.j@example.com  2025-01-06  \n",
       "3    Star City  (555) 876-5432      emily.davis@example.com  2025-01-06  \n",
       "4  Hill Valley  (555) 345-6789        chris.lee@example.com  2025-01-06  \n",
       "5    Smalltown  (555) 456-7890     sarah.wilson@example.com  2025-01-06  \n",
       "6     Lakeview  (555) 567-8901      david.brown@example.com  2025-01-06  \n",
       "7    Rivertown  (555) 678-9012    jessica.white@example.com  2025-01-06  \n",
       "8    Oceanview  (555) 789-0123  daniel.martinez@example.com  2025-01-06  \n",
       "9    Hillcrest  (555) 890-1234     laura.garcia@example.com  2025-01-06  "
      ]
     },
     "execution_count": 2,
     "metadata": {},
     "output_type": "execute_result"
    }
   ],
   "source": [
    "demo_data = pd.read_excel(\"Demo_data.xlsx\")\n",
    "demo_data[\"Date\"] = demo_data[\"Date\"].astype(\"str\")\n",
    "demo_data"
   ]
  },
  {
   "cell_type": "markdown",
   "metadata": {},
   "source": [
    "# Display Image"
   ]
  },
  {
   "cell_type": "code",
   "execution_count": 3,
   "metadata": {},
   "outputs": [
    {
     "data": {
      "image/png": "[encoded data removed]",
      "text/plain": [
       "<PIL.JpegImagePlugin.JpegImageFile image mode=RGB size=748x500 at 0x1DBCD776D90>"
      ]
     },
     "execution_count": 3,
     "metadata": {},
     "output_type": "execute_result"
    }
   ],
   "source": [
    "pil_image = Image.open('Company Logo.jpg')\n",
    "pil_image"
   ]
  },
  {
   "cell_type": "code",
   "execution_count": null,
   "metadata": {},
   "outputs": [],
   "source": [
    "# Define paths and parameters\n",
    "TEMPLATE_PATH = r\"/absolute path of the Template1.docx\"\n",
    "OUTPUT_DIR = r\"/absolute path of your output folder directory\"\n",
    "ROW_NUM = demo_data.shape[0]\n",
    "DEMO_DATA_DICT = demo_data.to_dict(\"list\")"
   ]
  },
  {
   "cell_type": "markdown",
   "metadata": {},
   "source": [
    "# Print Docx Paragraph Content"
   ]
  },
  {
   "cell_type": "code",
   "execution_count": 20,
   "metadata": {},
   "outputs": [
    {
     "name": "stdout",
     "output_type": "stream",
     "text": [
      "TemplateTemplate\n",
      "Template\n",
      "Template\n",
      "\n",
      "\n",
      "\n",
      "\n",
      "\n",
      "%Recipient Name%\n",
      "%Address Line 1%\n",
      "%City% \n",
      "%Country%\n",
      "\n",
      "\n",
      "\n",
      "\n",
      "%Company Name%\n",
      "%Address Line 1%\n",
      "%City% \n",
      "Telephone: %Phone Number%\n",
      "Email: %Email%\n",
      "Date: %Date%\n",
      "\n",
      "Dear %Recipient Name% [use title (e.g., Mr, Ms etc.) then Surname if letter written by individual OR use Company Name if letter from company/firm]\n",
      "\n",
      "[Subject of your formal letter (optional) (e.g., name of event, order/ invoice number)]\n",
      "\n",
      "Introduce yourself and your letter here. Explain why you are writing. Use short sentences with one point per sentence to make your writing clear and concise. \n",
      "\n",
      "This paragraph and the following paragraphs make up the main body of your letter and should include as many details as possible. For example, if your letter is about an event or is disputing a contract, you should include relevant dates, order numbers and/ or costs. \n",
      "\n",
      "Do not be afraid to refer to and/ or enclose copies of important documents, plans, or photographs if this will illustrate the relevant circumstances more clearly. You can also use bullet points or numbering to break up the text and make it easier to follow. For example, we enclose the following:\n",
      "\n",
      "Letter dated 12th March 2021; \n",
      "Contract between X and Y signed 15th and 18th March 2021; and \n",
      "Plan.\n",
      "\n",
      "If you have a preferred outcome or remedy, explain what it is and detail any deadlines for important actions.\n",
      "\n",
      "End the letter by including contact details for a response if these are not evident from your headed paper. These might include a named contact, telephone number, reply address, and opening hours/ availability times. \n",
      "\n"
     ]
    }
   ],
   "source": [
    "doc = DocxWriter(TEMPLATE_PATH)\n",
    "print(doc.paragraph)"
   ]
  },
  {
   "cell_type": "markdown",
   "metadata": {},
   "source": [
    "# Print Docx Texts Cotent"
   ]
  },
  {
   "cell_type": "code",
   "execution_count": null,
   "metadata": {},
   "outputs": [
    {
     "name": "stdout",
     "output_type": "stream",
     "text": [
      "Template\n",
      "Template\n",
      "%\n",
      "Recipient Name\n",
      "%\n",
      "%\n",
      "Address Line 1\n",
      "%\n",
      "%\n",
      "City\n",
      "%\n",
      " \n",
      "%\n",
      "Country\n",
      "%\n",
      "%\n",
      "Company Name\n",
      "%\n",
      "%\n",
      "Address Line 1\n",
      "%\n",
      "%\n",
      "City\n",
      "%\n",
      " \n",
      "Telephone: \n",
      "%\n",
      "Phone Number\n",
      "%\n",
      "Email: \n",
      "%\n",
      "Email\n",
      "%\n",
      "Date: \n",
      "%\n",
      "Date\n",
      "%\n",
      "Dear \n",
      "%\n",
      "Recipient Name\n",
      "%\n",
      " \n",
      "[use title (e.g., Mr, Ms etc.) then Surname if letter written by individual \n",
      "OR\n",
      " use Company Name if letter from company/firm]\n",
      "[Subject of your formal letter (optional) (e.g., name of event, order/ invoice number)]\n",
      "Introduce yourself and your letter here. Explain why you are writing. Use short sentences with one point per sentence to make your writing clear and concise. \n",
      "This paragraph and the following paragraphs make up the main body of your letter and should include as many details as possible. For example, if your letter is about an event or is disputing a contract, you should include relevant dates, order numbers and/ or costs. \n",
      "Do not be afraid to refer to and/ or enclose copies of important documents, plans, or photographs if this will illustrate the relevant circumstances more clearly. You can also use bullet points or numbering to break up the text and make it easier to follow. For example, we enclose the following:\n",
      "Letter dated 12th March 2021; \n",
      "Contract between X and Y signed 15th and 18th March 2021; and \n",
      "Plan.\n",
      "If you have a preferred outcome or remedy, explain what it is and detail any deadlines for important actions.\n",
      "End the letter by including contact details for a response if these are not evident from your headed paper. These might include a named contact, telephone number, reply address, and opening hours/ availability times. \n"
     ]
    }
   ],
   "source": [
    "for t in doc.texts:\n",
    "    print(t.text)"
   ]
  },
  {
   "cell_type": "markdown",
   "metadata": {},
   "source": [
    "# Print Docx textboxes content"
   ]
  },
  {
   "cell_type": "code",
   "execution_count": 24,
   "metadata": {},
   "outputs": [
    {
     "name": "stdout",
     "output_type": "stream",
     "text": [
      "Template\n",
      "Template\n"
     ]
    }
   ],
   "source": [
    "for tb in doc.textbox:\n",
    "    print(tb.text)"
   ]
  },
  {
   "cell_type": "code",
   "execution_count": 25,
   "metadata": {},
   "outputs": [],
   "source": [
    "doc.close()"
   ]
  },
  {
   "cell_type": "markdown",
   "metadata": {},
   "source": [
    "# Find the image that needs to be replaced"
   ]
  },
  {
   "cell_type": "code",
   "execution_count": 6,
   "metadata": {},
   "outputs": [
    {
     "name": "stdout",
     "output_type": "stream",
     "text": [
      "Images Name: image1.png\n"
     ]
    },
    {
     "data": {
      "image/png": "[encoded data removed]",
      "text/plain": [
       "<PIL.PngImagePlugin.PngImageFile image mode=RGB size=259x96 at 0x1F07585F640>"
      ]
     },
     "metadata": {},
     "output_type": "display_data"
    }
   ],
   "source": [
    "# Define the directory where extracted images will be stored\n",
    "new_folder_dir = \"docx_images\"\n",
    "\n",
    "# Initialize the DocxWriter with the specified template path\n",
    "doc = DocxWriter(TEMPLATE_PATH)\n",
    "\n",
    "# Extract images from the DOCX file and save them to the specified folder\n",
    "doc.extract_image(new_folder_dir)\n",
    "doc.close()\n",
    "\n",
    "### Iterate through the images in the new folder to identify the image that needs to be replaced\n",
    "for img in os.listdir(new_folder_dir):\n",
    "    print(f\"Images Name: {img}\")\n",
    "    display(Image.open(os.path.join(new_folder_dir, img)))"
   ]
  },
  {
   "cell_type": "markdown",
   "metadata": {},
   "source": [
    "# Replace text and image in Docx"
   ]
  },
  {
   "cell_type": "code",
   "execution_count": 7,
   "metadata": {},
   "outputs": [
    {
     "name": "stdout",
     "output_type": "stream",
     "text": [
      "Processing 0 of 9...\n",
      "Successfully processed 0.\n",
      "Processing 1 of 9...\n",
      "Successfully processed 1.\n",
      "Processing 2 of 9...\n",
      "Successfully processed 2.\n",
      "Processing 3 of 9...\n",
      "Successfully processed 3.\n",
      "Processing 4 of 9...\n",
      "Successfully processed 4.\n",
      "Processing 5 of 9...\n",
      "Successfully processed 5.\n",
      "Processing 6 of 9...\n",
      "Successfully processed 6.\n",
      "Processing 7 of 9...\n",
      "Successfully processed 7.\n",
      "Processing 8 of 9...\n",
      "Successfully processed 8.\n",
      "Processing 9 of 9...\n",
      "Successfully processed 9.\n"
     ]
    }
   ],
   "source": [
    "LOGO_IMAGE = \"image1.png\"\n",
    "\n",
    "if not os.path.exists(OUTPUT_DIR):\n",
    "    os.makedirs(OUTPUT_DIR, exist_ok=True)\n",
    "\n",
    "for row in range(ROW_NUM):\n",
    "    print(f\"Processing {row} of {ROW_NUM-1}...\")\n",
    "    \n",
    "    ### Initialize DocxWriter with the template\n",
    "    doc = DocxWriter(TEMPLATE_PATH)\n",
    "\n",
    "    ### Replace text in the document for all columns\n",
    "    for col_name in demo_data.columns:\n",
    "        replacement_text = DEMO_DATA_DICT[col_name][row]\n",
    "        doc.text_replace(doc.texts, col_name, replacement_text, \"%\")\n",
    "\n",
    "    ### Replace the image in the document\n",
    "    doc.image_replace(\"Company Logo.jpg\", LOGO_IMAGE)\n",
    "\n",
    "    ### Save the new .docx file\n",
    "    new_docx_name = f\"new_template({row}).docx\"\n",
    "    new_docx_path = os.path.join(OUTPUT_DIR, new_docx_name)\n",
    "    doc.save(new_docx_path)\n",
    "\n",
    "    ### Save the new file as a .pdf\n",
    "    new_pdf_name = new_docx_name.replace(\".docx\", \".pdf\")\n",
    "    new_pdf_path = os.path.join(OUTPUT_DIR, new_pdf_name)\n",
    "    doc.save_as_pdf(new_docx_path, new_pdf_path)\n",
    "    print(f\"Successfully processed {row}.\")\n",
    "\n",
    "    doc.close()"
   ]
  },
  {
   "cell_type": "code",
   "execution_count": null,
   "metadata": {},
   "outputs": [],
   "source": []
  }
 ],
 "metadata": {
  "kernelspec": {
   "display_name": "base",
   "language": "python",
   "name": "python3"
  },
  "language_info": {
   "codemirror_mode": {
    "name": "ipython",
    "version": 3
   },
   "file_extension": ".py",
   "mimetype": "text/x-python",
   "name": "python",
   "nbconvert_exporter": "python",
   "pygments_lexer": "ipython3",
   "version": "3.8.5"
  }
 },
 "nbformat": 4,
 "nbformat_minor": 2
}
